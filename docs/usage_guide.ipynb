{
 "cells": [
  {
   "cell_type": "code",
   "execution_count": 33,
   "id": "c4b3f5da",
   "metadata": {},
   "outputs": [],
   "source": [
    "# import libraries\n",
    "import sys\n",
    "import os\n",
    "import configparser\n",
    "\n",
    "import sqlite3\n",
    "import pandas as pd\n",
    "from functools import wraps\n",
    "\n",
    "# import school_database_dev Modular \n",
    "#from ..dev import school_database_dev\n",
    "# Get the absolute path to the dev directory\n",
    "project_root = os.path.abspath(os.path.join(os.getcwd(), '../..'))\n",
    "sys.path.insert(0, project_root)\n",
    "\n",
    "import dev.school_database_dev as schdb"
   ]
  },
  {
   "cell_type": "code",
   "execution_count": 50,
   "id": "24e4b824",
   "metadata": {},
   "outputs": [],
   "source": [
    "# Read settings from the configuration file\n",
    "config = configparser.ConfigParser()\n",
    "config.read('../config/settings.ini')\n",
    "\n",
    "# Constants from the configuration file\n",
    "#db_path = config['database']['db_path']\n",
    "db_path = '../resources/data/schools.db'\n",
    "highschools_url = config['csv_data_sources']['highschools_url']\n",
    "sat_records_url = config['csv_data_sources']['sat_records_url']"
   ]
  },
  {
   "cell_type": "code",
   "execution_count": 71,
   "id": "a554cfc1",
   "metadata": {},
   "outputs": [
    {
     "name": "stdout",
     "output_type": "stream",
     "text": [
      "Database connection successful.\n",
      "Data loaded successfully into 'high_schools' table.\n",
      "Database connection successful.\n",
      "Data loaded successfully into 'sat_records' table.\n"
     ]
    }
   ],
   "source": [
    "# Usage\n",
    "db = schdb.SchoolDatabase(db_path)\n",
    "\n",
    "# Load data into SQLite database\n",
    "highschools_url = config['csv_data_sources']['highschools_url']\n",
    "db.load_data_to_sqlite(highschools_url, 'high_schools')\n",
    "db.load_data_to_sqlite(sat_records_url, 'sat_records')"
   ]
  },
  {
   "cell_type": "code",
   "execution_count": 72,
   "id": "d866c8f7",
   "metadata": {},
   "outputs": [
    {
     "name": "stdout",
     "output_type": "stream",
     "text": [
      "Database connection successful.\n",
      "Table names retrieved successfully\n"
     ]
    },
    {
     "data": {
      "text/plain": [
       "[('high_schools',), ('sat_records',)]"
      ]
     },
     "execution_count": 72,
     "metadata": {},
     "output_type": "execute_result"
    }
   ],
   "source": [
    "db.get_table_names()"
   ]
  },
  {
   "cell_type": "code",
   "execution_count": null,
   "id": "7cab3975",
   "metadata": {},
   "outputs": [],
   "source": []
  },
  {
   "cell_type": "code",
   "execution_count": null,
   "id": "633175ea",
   "metadata": {},
   "outputs": [],
   "source": []
  }
 ],
 "metadata": {
  "kernelspec": {
   "display_name": "Python 3 (ipykernel)",
   "language": "python",
   "name": "python3"
  },
  "language_info": {
   "codemirror_mode": {
    "name": "ipython",
    "version": 3
   },
   "file_extension": ".py",
   "mimetype": "text/x-python",
   "name": "python",
   "nbconvert_exporter": "python",
   "pygments_lexer": "ipython3",
   "version": "3.9.13"
  }
 },
 "nbformat": 4,
 "nbformat_minor": 5
}
