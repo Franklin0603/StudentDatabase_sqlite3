{
 "cells": [
  {
   "cell_type": "code",
   "execution_count": 1,
   "id": "c4b3f5da",
   "metadata": {},
   "outputs": [],
   "source": [
    "import sqlite3\n",
    "import pandas as pd"
   ]
  },
  {
   "cell_type": "code",
   "execution_count": 15,
   "id": "48234463",
   "metadata": {},
   "outputs": [],
   "source": [
    "conn = sqlite3.connect('mean_green.db')"
   ]
  },
  {
   "cell_type": "code",
   "execution_count": 16,
   "id": "8d4b09f0",
   "metadata": {},
   "outputs": [
    {
     "name": "stdout",
     "output_type": "stream",
     "text": [
      "barbershop.db               insert_ingredients.sql\r\n",
      "create_employees.sql        mean_green.db\r\n",
      "create_employees_salad.sql  python-and-sql.ipynb\r\n",
      "create_ingredients.sql      saladshop.db\r\n",
      "insert_employees_salad.sql\r\n"
     ]
    }
   ],
   "source": [
    "ls"
   ]
  },
  {
   "cell_type": "code",
   "execution_count": 17,
   "id": "59874dd7",
   "metadata": {},
   "outputs": [],
   "source": [
    "cursor = conn.cursor()"
   ]
  },
  {
   "cell_type": "code",
   "execution_count": 11,
   "id": "e1d461ce",
   "metadata": {},
   "outputs": [],
   "source": [
    "sql = \"\"\"CREATE TABLE employees (\n",
    "    name TEXT,\n",
    "    zipcode TEXT\n",
    ");\"\"\""
   ]
  },
  {
   "cell_type": "code",
   "execution_count": 12,
   "id": "6918c67d",
   "metadata": {},
   "outputs": [
    {
     "ename": "OperationalError",
     "evalue": "table employees already exists",
     "output_type": "error",
     "traceback": [
      "\u001b[0;31m---------------------------------------------------------------------------\u001b[0m",
      "\u001b[0;31mOperationalError\u001b[0m                          Traceback (most recent call last)",
      "\u001b[0;32m/var/folders/21/f45fbj896dg1czx0x93kxrl80000gn/T/ipykernel_12859/75716488.py\u001b[0m in \u001b[0;36m<module>\u001b[0;34m\u001b[0m\n\u001b[0;32m----> 1\u001b[0;31m \u001b[0mcursor\u001b[0m\u001b[0;34m.\u001b[0m\u001b[0mexecute\u001b[0m\u001b[0;34m(\u001b[0m\u001b[0msql\u001b[0m\u001b[0;34m)\u001b[0m\u001b[0;34m\u001b[0m\u001b[0;34m\u001b[0m\u001b[0m\n\u001b[0m",
      "\u001b[0;31mOperationalError\u001b[0m: table employees already exists"
     ]
    }
   ],
   "source": [
    "cursor.execute(sql)"
   ]
  },
  {
   "cell_type": "code",
   "execution_count": null,
   "id": "5c903cdc",
   "metadata": {},
   "outputs": [],
   "source": [
    "conn.commit()"
   ]
  },
  {
   "cell_type": "code",
   "execution_count": 18,
   "id": "3ab976d9",
   "metadata": {},
   "outputs": [
    {
     "data": {
      "text/plain": [
       "<sqlite3.Cursor at 0x7feb10c718f0>"
      ]
     },
     "execution_count": 18,
     "metadata": {},
     "output_type": "execute_result"
    }
   ],
   "source": [
    "cursor.execute('select * from employees;')"
   ]
  },
  {
   "cell_type": "code",
   "execution_count": 19,
   "id": "c1d25ca5",
   "metadata": {},
   "outputs": [
    {
     "data": {
      "text/plain": [
       "[]"
      ]
     },
     "execution_count": 19,
     "metadata": {},
     "output_type": "execute_result"
    }
   ],
   "source": [
    "cursor.fetchall()"
   ]
  },
  {
   "cell_type": "markdown",
   "id": "9b907896",
   "metadata": {},
   "source": [
    "# saladshop.db"
   ]
  },
  {
   "cell_type": "code",
   "execution_count": 20,
   "id": "d85dda76",
   "metadata": {},
   "outputs": [],
   "source": [
    "import pandas as pd\n",
    "employees_url = \"https://raw.githubusercontent.com/eng-6-22/mod-1-sql-curriculum/master/1-sql-fundamentals/6-python-sql-lab/employees.csv\"\n",
    "employees_df = pd.read_csv(employees_url)\n",
    "ingredients_url = \"https://raw.githubusercontent.com/eng-6-22/mod-1-sql-curriculum/master/1-sql-fundamentals/6-python-sql-lab/ingredients.csv\"\n",
    "ingredients_df = pd.read_csv(ingredients_url)"
   ]
  },
  {
   "cell_type": "code",
   "execution_count": 25,
   "id": "a236d5fe",
   "metadata": {},
   "outputs": [
    {
     "data": {
      "text/html": [
       "<div>\n",
       "<style scoped>\n",
       "    .dataframe tbody tr th:only-of-type {\n",
       "        vertical-align: middle;\n",
       "    }\n",
       "\n",
       "    .dataframe tbody tr th {\n",
       "        vertical-align: top;\n",
       "    }\n",
       "\n",
       "    .dataframe thead th {\n",
       "        text-align: right;\n",
       "    }\n",
       "</style>\n",
       "<table border=\"1\" class=\"dataframe\">\n",
       "  <thead>\n",
       "    <tr style=\"text-align: right;\">\n",
       "      <th></th>\n",
       "      <th>id</th>\n",
       "      <th>name</th>\n",
       "      <th>position</th>\n",
       "      <th>start_date</th>\n",
       "      <th>zip_code</th>\n",
       "      <th>phone_number</th>\n",
       "    </tr>\n",
       "  </thead>\n",
       "  <tbody>\n",
       "    <tr>\n",
       "      <th>0</th>\n",
       "      <td>1</td>\n",
       "      <td>Tom</td>\n",
       "      <td>manager</td>\n",
       "      <td>2019-05-20</td>\n",
       "      <td>10001</td>\n",
       "      <td>212-438-3984</td>\n",
       "    </tr>\n",
       "    <tr>\n",
       "      <th>1</th>\n",
       "      <td>2</td>\n",
       "      <td>Alison</td>\n",
       "      <td>salad maker</td>\n",
       "      <td>2020-01-04</td>\n",
       "      <td>10023</td>\n",
       "      <td>212-329-2489</td>\n",
       "    </tr>\n",
       "  </tbody>\n",
       "</table>\n",
       "</div>"
      ],
      "text/plain": [
       "   id    name     position  start_date  zip_code  phone_number\n",
       "0   1     Tom      manager  2019-05-20     10001  212-438-3984\n",
       "1   2  Alison  salad maker  2020-01-04     10023  212-329-2489"
      ]
     },
     "execution_count": 25,
     "metadata": {},
     "output_type": "execute_result"
    }
   ],
   "source": [
    "employees_df.head(2)"
   ]
  },
  {
   "cell_type": "code",
   "execution_count": 26,
   "id": "c9513bfe",
   "metadata": {},
   "outputs": [
    {
     "data": {
      "text/html": [
       "<div>\n",
       "<style scoped>\n",
       "    .dataframe tbody tr th:only-of-type {\n",
       "        vertical-align: middle;\n",
       "    }\n",
       "\n",
       "    .dataframe tbody tr th {\n",
       "        vertical-align: top;\n",
       "    }\n",
       "\n",
       "    .dataframe thead th {\n",
       "        text-align: right;\n",
       "    }\n",
       "</style>\n",
       "<table border=\"1\" class=\"dataframe\">\n",
       "  <thead>\n",
       "    <tr style=\"text-align: right;\">\n",
       "      <th></th>\n",
       "      <th>id</th>\n",
       "      <th>name</th>\n",
       "      <th>cost_per_ounce</th>\n",
       "      <th>calories_per_ounce</th>\n",
       "      <th>expiration</th>\n",
       "    </tr>\n",
       "  </thead>\n",
       "  <tbody>\n",
       "    <tr>\n",
       "      <th>0</th>\n",
       "      <td>1</td>\n",
       "      <td>baby spinach</td>\n",
       "      <td>0.19</td>\n",
       "      <td>7</td>\n",
       "      <td>2020-02-05</td>\n",
       "    </tr>\n",
       "    <tr>\n",
       "      <th>1</th>\n",
       "      <td>2</td>\n",
       "      <td>kale</td>\n",
       "      <td>0.50</td>\n",
       "      <td>10</td>\n",
       "      <td>2020-02-10</td>\n",
       "    </tr>\n",
       "  </tbody>\n",
       "</table>\n",
       "</div>"
      ],
      "text/plain": [
       "   id          name  cost_per_ounce  calories_per_ounce  expiration\n",
       "0   1  baby spinach            0.19                   7  2020-02-05\n",
       "1   2          kale            0.50                  10  2020-02-10"
      ]
     },
     "execution_count": 26,
     "metadata": {},
     "output_type": "execute_result"
    }
   ],
   "source": [
    "ingredients_df.head(2)"
   ]
  },
  {
   "cell_type": "code",
   "execution_count": 32,
   "id": "18e7396a",
   "metadata": {},
   "outputs": [],
   "source": [
    "import sqlite3\n",
    "conn = sqlite3.connect('./saladshop.db')\n",
    "cursor = conn.cursor()"
   ]
  },
  {
   "cell_type": "code",
   "execution_count": 42,
   "id": "624bcd8c",
   "metadata": {},
   "outputs": [
    {
     "data": {
      "text/plain": [
       "5"
      ]
     },
     "execution_count": 42,
     "metadata": {},
     "output_type": "execute_result"
    }
   ],
   "source": [
    "employees_df.to_sql('employees', conn, index = False)\n",
    "ingredients_df.to_sql('ingredients', conn, index = False)"
   ]
  },
  {
   "cell_type": "code",
   "execution_count": 43,
   "id": "f7312b8f",
   "metadata": {},
   "outputs": [
    {
     "data": {
      "text/plain": [
       "[(1, 'baby spinach', 0.19, 7, '2020-02-05'),\n",
       " (2, 'kale', 0.5, 10, '2020-02-10'),\n",
       " (3, 'tomatoes', 1.25, 5, '2020-01-30'),\n",
       " (4, 'broccoli', 1.15, 45, '2020-02-10'),\n",
       " (5, 'chicken', 3.5, 60, '2020-02-07')]"
      ]
     },
     "execution_count": 43,
     "metadata": {},
     "output_type": "execute_result"
    }
   ],
   "source": [
    "statement = 'select * from ingredients;'\n",
    "cursor.execute(statement)\n",
    "cursor.fetchall()"
   ]
  },
  {
   "cell_type": "code",
   "execution_count": 44,
   "id": "e8c97a1d",
   "metadata": {},
   "outputs": [
    {
     "data": {
      "text/plain": [
       "[(1, 'Tom', 'manager', '2019-05-20', 10001, '212-438-3984'),\n",
       " (2, 'Alison', 'salad maker', '2020-01-04', 10023, '212-329-2489'),\n",
       " (3, 'Jerry', 'delivery driver', '2019-12-15', 10001, '212-219-1029'),\n",
       " (4, 'Brian', 'salad maker', '2019-12-04', 10002, '646-328-2309'),\n",
       " (5, 'Vanessa', 'clerk', '2019-11-14', 11201, '718-348-2348')]"
      ]
     },
     "execution_count": 44,
     "metadata": {},
     "output_type": "execute_result"
    }
   ],
   "source": [
    "statement = 'select * from employees;'\n",
    "\n",
    "cursor.execute(statement)\n",
    "cursor.fetchall()"
   ]
  },
  {
   "cell_type": "markdown",
   "id": "dfa86db4",
   "metadata": {},
   "source": [
    "# working on grocery.db"
   ]
  },
  {
   "cell_type": "code",
   "execution_count": 57,
   "id": "ee10ee27",
   "metadata": {},
   "outputs": [],
   "source": [
    "conn = sqlite3.connect('./grocery.db')\n",
    "cursor = conn.cursor()\n",
    "\n",
    "employees_url = \"https://raw.githubusercontent.com/eng-6-22/mod-1-sql-curriculum/master/sql-select-lab/data/employees.csv\"\n",
    "ingredients_url = \"https://raw.githubusercontent.com/eng-6-22/mod-1-sql-curriculum/master/sql-select-lab/data/ingredients.csv\"\n",
    "ingredients_df = pd.read_csv(ingredients_url)\n",
    "employees_df = pd.read_csv(employees_url)"
   ]
  },
  {
   "cell_type": "code",
   "execution_count": 58,
   "id": "1bf8eb6b",
   "metadata": {},
   "outputs": [
    {
     "data": {
      "text/plain": [
       "12"
      ]
     },
     "execution_count": 58,
     "metadata": {},
     "output_type": "execute_result"
    }
   ],
   "source": [
    "ingredients_df.to_sql('ingredients', conn,\n",
    "                  index = False, if_exists = 'replace')\n",
    "employees_df.to_sql('employees', conn, index = False,\n",
    "        if_exists = 'replace')\n"
   ]
  },
  {
   "cell_type": "code",
   "execution_count": 59,
   "id": "7fca01e0",
   "metadata": {},
   "outputs": [
    {
     "name": "stdout",
     "output_type": "stream",
     "text": [
      "20\n",
      "12\n"
     ]
    }
   ],
   "source": [
    "print(len(ingredients_df))\n",
    "print(len(employees_df))"
   ]
  },
  {
   "cell_type": "code",
   "execution_count": 60,
   "id": "07f5c71b",
   "metadata": {},
   "outputs": [
    {
     "data": {
      "text/plain": [
       "[(1, 'Tom', 'manager', '2019-05-20', 10001, '212-438-3984'),\n",
       " (2, 'Alison', 'salad maker', '2020-01-04', 10023, '212-329-2489'),\n",
       " (3, 'Jerry', 'delivery driver', '2019-12-15', 10001, '212-219-1029'),\n",
       " (4, 'Brian', 'salad maker', '2019-12-04', 10002, '646-328-2309'),\n",
       " (5, 'Vanessa', 'clerk', '2019-11-14', 11201, '718-348-2348'),\n",
       " (6, 'Cindy', 'assistant manager', '2019-11-12', 10002, '212-300-1203'),\n",
       " (7, 'Charles', 'delivery driver', '2020-01-02', 10003, '212-993-2348'),\n",
       " (8, 'Alex', 'assistant manager', '2019-06-11', 10001, '718-293-1823'),\n",
       " (9, 'Naomi', 'manager', '2019-02-12', 10002, '212-493-2922'),\n",
       " (10, 'Isabel', 'salad maker', '2020-01-04', 10001, '212-390-9122'),\n",
       " (11, 'James', 'clerk', '2020-01-10', 10023, '718-645-2929'),\n",
       " (12, 'Max', 'salad maker', '2019-10-03', 10002, '212-555-2911')]"
      ]
     },
     "execution_count": 60,
     "metadata": {},
     "output_type": "execute_result"
    }
   ],
   "source": [
    "statement = 'select * from employees;'\n",
    "def run_query(conn, statement):\n",
    "    cursor = conn.cursor()\n",
    "    cursor.execute(statement)\n",
    "    return cursor.fetchall()\n",
    "    \n",
    "run_query(conn, statement)    "
   ]
  },
  {
   "cell_type": "code",
   "execution_count": 65,
   "id": "b92c8efc",
   "metadata": {},
   "outputs": [
    {
     "data": {
      "text/plain": [
       "[(1, 'Tom', 'manager', '2019-05-20', 10001, '212-438-3984'),\n",
       " (2, 'Alison', 'salad maker', '2020-01-04', 10023, '212-329-2489'),\n",
       " (3, 'Jerry', 'delivery driver', '2019-12-15', 10001, '212-219-1029'),\n",
       " (4, 'Brian', 'salad maker', '2019-12-04', 10002, '646-328-2309'),\n",
       " (5, 'Vanessa', 'clerk', '2019-11-14', 11201, '718-348-2348'),\n",
       " (6, 'Cindy', 'assistant manager', '2019-11-12', 10002, '212-300-1203'),\n",
       " (7, 'Charles', 'delivery driver', '2020-01-02', 10003, '212-993-2348'),\n",
       " (8, 'Alex', 'assistant manager', '2019-06-11', 10001, '718-293-1823'),\n",
       " (9, 'Naomi', 'manager', '2019-02-12', 10002, '212-493-2922'),\n",
       " (10, 'Isabel', 'salad maker', '2020-01-04', 10001, '212-390-9122'),\n",
       " (11, 'James', 'clerk', '2020-01-10', 10023, '718-645-2929'),\n",
       " (12, 'Max', 'salad maker', '2019-10-03', 10002, '212-555-2911')]"
      ]
     },
     "execution_count": 65,
     "metadata": {},
     "output_type": "execute_result"
    }
   ],
   "source": [
    "# run all employment\n",
    "\n",
    "def all_employees(conn, statement):\n",
    "    return run_query(conn, statment)\n",
    "    \n",
    "statement = 'select * from employees;'\n",
    "all_employees(conn, statement)"
   ]
  },
  {
   "cell_type": "code",
   "execution_count": 66,
   "id": "b2846603",
   "metadata": {},
   "outputs": [
    {
     "data": {
      "text/plain": [
       "True"
      ]
     },
     "execution_count": 66,
     "metadata": {},
     "output_type": "execute_result"
    }
   ],
   "source": [
    "len(all_employees(conn, statement)) == 12"
   ]
  },
  {
   "cell_type": "code",
   "execution_count": 70,
   "id": "d70b6e30",
   "metadata": {},
   "outputs": [
    {
     "data": {
      "text/plain": [
       "[(1, 'baby spinach', 0.19, 7, '2020-02-05'),\n",
       " (2, 'kale', 0.5, 10, '2020-02-10'),\n",
       " (3, 'tomatoes', 1.25, 5, '2020-01-30'),\n",
       " (4, 'broccoli', 1.15, 45, '2020-02-10'),\n",
       " (5, 'chicken', 3.5, 90, '2020-02-07'),\n",
       " (6, 'arugula', 0.5, 20, '2020-02-10'),\n",
       " (7, 'apples', 1.2, 30, '2020-02-08'),\n",
       " (8, 'pears', 1.1, 30, '2020-02-10'),\n",
       " (9, 'corn', 1.25, 40, '2020-02-08'),\n",
       " (10, 'brussels sprouts', 1.4, 40, '2020-02-01'),\n",
       " (11, 'almonds', 0.9, 50, '2020-02-02'),\n",
       " (12, 'mushrooms', 1.4, 60, '2020-02-02'),\n",
       " (13, 'tofu', 1.35, 40, '2020-02-03'),\n",
       " (14, 'avocado', 2.05, 70, '2020-02-08'),\n",
       " (15, 'romaine', 0.2, 5, '2020-02-07'),\n",
       " (16, 'cauliflower', 1.6, 45, '2020-01-30'),\n",
       " (17, 'parmesan', 2.1, 75, '2020-02-01'),\n",
       " (18, 'feta', 2.2, 80, '2020-02-02'),\n",
       " (19, 'caesar dressing', 1.5, 90, '2020-02-03'),\n",
       " (20, 'balsamic vinaigrette', 1.45, 40, '2020-02-07')]"
      ]
     },
     "execution_count": 70,
     "metadata": {},
     "output_type": "execute_result"
    }
   ],
   "source": [
    "def all_ingredients(conn, statement):\n",
    "    return run_query(conn, statement)\n",
    "\n",
    "\n",
    "statement = 'select * from ingredients;'\n",
    "all_ingredients(conn, statement)"
   ]
  },
  {
   "cell_type": "code",
   "execution_count": 71,
   "id": "48834bdc",
   "metadata": {},
   "outputs": [
    {
     "data": {
      "text/plain": [
       "True"
      ]
     },
     "execution_count": 71,
     "metadata": {},
     "output_type": "execute_result"
    }
   ],
   "source": [
    "len(all_ingredients(conn, statement)) == 20"
   ]
  },
  {
   "cell_type": "code",
   "execution_count": 72,
   "id": "368c62cb",
   "metadata": {},
   "outputs": [
    {
     "data": {
      "text/plain": [
       "[('baby spinach',),\n",
       " ('kale',),\n",
       " ('tomatoes',),\n",
       " ('broccoli',),\n",
       " ('chicken',),\n",
       " ('arugula',),\n",
       " ('apples',),\n",
       " ('pears',),\n",
       " ('corn',),\n",
       " ('brussels sprouts',),\n",
       " ('almonds',),\n",
       " ('mushrooms',),\n",
       " ('tofu',),\n",
       " ('avocado',),\n",
       " ('romaine',),\n",
       " ('cauliflower',),\n",
       " ('parmesan',),\n",
       " ('feta',),\n",
       " ('caesar dressing',),\n",
       " ('balsamic vinaigrette',)]"
      ]
     },
     "execution_count": 72,
     "metadata": {},
     "output_type": "execute_result"
    }
   ],
   "source": [
    "def all_ingredient_names(conn, statement):\n",
    "    return run_query(conn, statement)\n",
    "\n",
    "\n",
    "statement = 'select name from ingredients;'\n",
    "all_ingredients(conn, statement)"
   ]
  },
  {
   "cell_type": "code",
   "execution_count": 73,
   "id": "23ae24fd",
   "metadata": {},
   "outputs": [
    {
     "data": {
      "text/plain": [
       "True"
      ]
     },
     "execution_count": 73,
     "metadata": {},
     "output_type": "execute_result"
    }
   ],
   "source": [
    "len(all_ingredient_names(conn, statement)) == 20"
   ]
  },
  {
   "cell_type": "code",
   "execution_count": 74,
   "id": "bc0389c7",
   "metadata": {},
   "outputs": [
    {
     "data": {
      "text/plain": [
       "[('2019-05-20',),\n",
       " ('2020-01-04',),\n",
       " ('2019-12-15',),\n",
       " ('2019-12-04',),\n",
       " ('2019-11-14',),\n",
       " ('2019-11-12',),\n",
       " ('2020-01-02',),\n",
       " ('2019-06-11',),\n",
       " ('2019-02-12',),\n",
       " ('2020-01-04',),\n",
       " ('2020-01-10',),\n",
       " ('2019-10-03',)]"
      ]
     },
     "execution_count": 74,
     "metadata": {},
     "output_type": "execute_result"
    }
   ],
   "source": [
    "def all_employee_start_dates(conn, statement):\n",
    "    return run_query(conn, statement)\n",
    "\n",
    "\n",
    "statement = 'select start_date from employees;'\n",
    "all_employee_start_dates(conn, statement)"
   ]
  },
  {
   "cell_type": "code",
   "execution_count": 75,
   "id": "3338888e",
   "metadata": {},
   "outputs": [
    {
     "data": {
      "text/plain": [
       "True"
      ]
     },
     "execution_count": 75,
     "metadata": {},
     "output_type": "execute_result"
    }
   ],
   "source": [
    "len(all_employee_start_dates(conn, statement)) == 12"
   ]
  },
  {
   "cell_type": "code",
   "execution_count": 77,
   "id": "c26fc016",
   "metadata": {},
   "outputs": [
    {
     "data": {
      "text/plain": [
       "[(1, 'baby spinach', 0.19, 7, '2020-02-05'),\n",
       " (2, 'kale', 0.5, 10, '2020-02-10'),\n",
       " (6, 'arugula', 0.5, 20, '2020-02-10'),\n",
       " (11, 'almonds', 0.9, 50, '2020-02-02'),\n",
       " (15, 'romaine', 0.2, 5, '2020-02-07')]"
      ]
     },
     "execution_count": 77,
     "metadata": {},
     "output_type": "execute_result"
    }
   ],
   "source": [
    "def cheaper_ingredients(conn, statement):\n",
    "    return run_query(conn, statement)\n",
    "\n",
    "\n",
    "statement = 'select * from ingredients where cost_per_ounce < 1.0;'\n",
    "cheaper_ingredients(conn, statement)"
   ]
  },
  {
   "cell_type": "code",
   "execution_count": 89,
   "id": "d2401518",
   "metadata": {},
   "outputs": [
    {
     "data": {
      "text/plain": [
       "[('2019-02-12',)]"
      ]
     },
     "execution_count": 89,
     "metadata": {},
     "output_type": "execute_result"
    }
   ],
   "source": [
    "def naomi_start_date(conn, statement):\n",
    "    return run_query(conn, statement)\n",
    "\n",
    "\n",
    "statement = \"\"\"select start_date from employees where name = 'Naomi';\"\"\"\n",
    "naomi_start_date(conn, statement)"
   ]
  },
  {
   "cell_type": "code",
   "execution_count": 91,
   "id": "c92c483b",
   "metadata": {},
   "outputs": [
    {
     "data": {
      "text/plain": [
       "True"
      ]
     },
     "execution_count": 91,
     "metadata": {},
     "output_type": "execute_result"
    }
   ],
   "source": [
    "naomi_start_date(conn, statement) == [('2019-02-12',)]"
   ]
  },
  {
   "cell_type": "code",
   "execution_count": 99,
   "id": "443a1269",
   "metadata": {},
   "outputs": [
    {
     "data": {
      "text/plain": [
       "[(1, 'baby spinach', 0.19, 7, '2020-02-05'),\n",
       " (2, 'kale', 0.5, 10, '2020-02-10'),\n",
       " (4, 'broccoli', 1.15, 45, '2020-02-10'),\n",
       " (5, 'chicken', 3.5, 90, '2020-02-07'),\n",
       " (6, 'arugula', 0.5, 20, '2020-02-10'),\n",
       " (7, 'apples', 1.2, 30, '2020-02-08'),\n",
       " (8, 'pears', 1.1, 30, '2020-02-10'),\n",
       " (9, 'corn', 1.25, 40, '2020-02-08'),\n",
       " (14, 'avocado', 2.05, 70, '2020-02-08'),\n",
       " (15, 'romaine', 0.2, 5, '2020-02-07'),\n",
       " (20, 'balsamic vinaigrette', 1.45, 40, '2020-02-07')]"
      ]
     },
     "execution_count": 99,
     "metadata": {},
     "output_type": "execute_result"
    }
   ],
   "source": [
    "def ingredients_expiring_after_feb(conn, statement):\n",
    "    return run_query(conn, statement)\n",
    "\n",
    "\n",
    "statement = \"\"\"select * from ingredients where expiration > '2020-02-03';\"\"\"\n",
    "ingredients_expiring_after_feb(conn, statement)"
   ]
  },
  {
   "cell_type": "code",
   "execution_count": 103,
   "id": "06e4715e",
   "metadata": {},
   "outputs": [
    {
     "data": {
      "text/plain": [
       "[(1, 'baby spinach', 0.19, 7, '2020-02-05'),\n",
       " (2, 'kale', 0.5, 10, '2020-02-10'),\n",
       " (3, 'tomatoes', 1.25, 5, '2020-01-30'),\n",
       " (4, 'broccoli', 1.15, 45, '2020-02-10'),\n",
       " (5, 'chicken', 3.5, 90, '2020-02-07'),\n",
       " (6, 'arugula', 0.5, 20, '2020-02-10'),\n",
       " (7, 'apples', 1.2, 30, '2020-02-08'),\n",
       " (8, 'pears', 1.1, 30, '2020-02-10'),\n",
       " (9, 'corn', 1.25, 40, '2020-02-08'),\n",
       " (10, 'brussels sprouts', 1.4, 40, '2020-02-01'),\n",
       " (11, 'almonds', 0.9, 50, '2020-02-02'),\n",
       " (12, 'mushrooms', 1.4, 60, '2020-02-02'),\n",
       " (13, 'tofu', 1.35, 40, '2020-02-03'),\n",
       " (14, 'avocado', 2.05, 70, '2020-02-08'),\n",
       " (15, 'romaine', 0.2, 5, '2020-02-07'),\n",
       " (16, 'cauliflower', 1.6, 45, '2020-01-30'),\n",
       " (17, 'parmesan', 2.1, 75, '2020-02-01'),\n",
       " (18, 'feta', 2.2, 80, '2020-02-02'),\n",
       " (19, 'caesar dressing', 1.5, 90, '2020-02-03'),\n",
       " (20, 'balsamic vinaigrette', 1.45, 40, '2020-02-07')]"
      ]
     },
     "execution_count": 103,
     "metadata": {},
     "output_type": "execute_result"
    }
   ],
   "source": [
    "def ingredients_middle_price(conn, statement):\n",
    "    return run_query(conn, statement)\n",
    "\n",
    "\n",
    "statement = \"\"\"select * from ingredients where  1.0 > cost_per_ounce < 1.5 ;\"\"\"\n",
    "ingredients_middle_price(conn, statement)"
   ]
  },
  {
   "cell_type": "code",
   "execution_count": 105,
   "id": "f112746a",
   "metadata": {},
   "outputs": [
    {
     "data": {
      "text/plain": [
       "True"
      ]
     },
     "execution_count": 105,
     "metadata": {},
     "output_type": "execute_result"
    }
   ],
   "source": [
    "all([(ingredient[2] < 1.50 or ingredient[2] > 1) for ingredient in ingredients_middle_price(conn, statement)])"
   ]
  },
  {
   "cell_type": "code",
   "execution_count": 109,
   "id": "5b539d59",
   "metadata": {},
   "outputs": [
    {
     "data": {
      "text/plain": [
       "[(1, 'Tom', 'manager', '2019-05-20', 10001, '212-438-3984'),\n",
       " (3, 'Jerry', 'delivery driver', '2019-12-15', 10001, '212-219-1029'),\n",
       " (4, 'Brian', 'salad maker', '2019-12-04', 10002, '646-328-2309'),\n",
       " (6, 'Cindy', 'assistant manager', '2019-11-12', 10002, '212-300-1203'),\n",
       " (8, 'Alex', 'assistant manager', '2019-06-11', 10001, '718-293-1823'),\n",
       " (9, 'Naomi', 'manager', '2019-02-12', 10002, '212-493-2922'),\n",
       " (10, 'Isabel', 'salad maker', '2020-01-04', 10001, '212-390-9122'),\n",
       " (12, 'Max', 'salad maker', '2019-10-03', 10002, '212-555-2911')]"
      ]
     },
     "execution_count": 109,
     "metadata": {},
     "output_type": "execute_result"
    }
   ],
   "source": [
    "def employees_in_nearby_zip_code(conn, statement):\n",
    "    return run_query(conn, statement)\n",
    "\n",
    "\n",
    "statement = \"\"\"select * from employees where  zip_code IN (10001, 10002) ;\"\"\"\n",
    "employees_in_nearby_zip_code(conn, statement)"
   ]
  },
  {
   "cell_type": "code",
   "execution_count": 111,
   "id": "e322784b",
   "metadata": {},
   "outputs": [
    {
     "data": {
      "text/plain": [
       "True"
      ]
     },
     "execution_count": 111,
     "metadata": {},
     "output_type": "execute_result"
    }
   ],
   "source": [
    "all([(employee[-2] == 10001 or employee[-2] == 10002) for employee in employees_in_nearby_zip_code(conn, statement)])"
   ]
  },
  {
   "cell_type": "markdown",
   "id": "a176acbb",
   "metadata": {},
   "source": [
    "# Belongs To High School Data"
   ]
  },
  {
   "cell_type": "markdown",
   "id": "7099380b",
   "metadata": {},
   "source": [
    "Improving your Python code and SQL queries can be done in several ways, including refactoring for better readability, performance, and maintainability, as well as adding comprehensive docstrings and comments. Here's a list of improvements for your code:\n",
    "\n",
    "1. Use Context Managers for Database Connections:\n",
    "Using with statements ensures that resources are properly managed and the database connection is closed automatically, even if an error occurs.\n",
    "\n",
    "2. Separate Concerns:\n",
    "Break your code into functions, each handling a specific task. This makes your code more readable and reusable.\n",
    "\n",
    "3. Add Docstrings:\n",
    "Write docstrings for each function to explain what it does, its parameters, and what it returns.\n",
    "\n",
    "4. Error Handling:\n",
    "Add error handling to manage any potential exceptions that may occur during database operations.\n",
    "\n",
    "5. Use Parameterized Queries:\n",
    "Avoid SQL injection and errors by using parameterized queries instead of string formatting.\n",
    "\n",
    "6. Code Comments:\n",
    "Add comments to complex parts of the code to explain the intent and logic.\n",
    "\n",
    "7. Consistent Naming Conventions:\n",
    "Use consistent and descriptive variable and function names.\n",
    "\n",
    "8. Remove Redundant Code:\n",
    "If you have any code that is not used or could be simplified, remove or refactor it.\n",
    "\n",
    "9. Optimize SQL Queries:\n",
    "Ensure that your SQL queries are efficient and well-structured. Use JOINs instead of subqueries where appropriate, and index your tables.\n",
    "\n",
    "10. Data Handling:\n",
    "Consider the size of the data. If the datasets are large, you might want to process them in chunks.\n",
    "\n",
    "\n",
    "### Python Code Refactoring and Docstring\n",
    "\n",
    "1. Use Context Managers for Database Connections: This ensures that the connection is properly closed even if an error occurs, which is a best practice for managing resources.\n",
    "\n",
    "2. Function Decomposition: Break down your code into functions, each performing a single responsibility. This makes your code more readable, maintainable, and testable.\n",
    "\n",
    "3. Docstrings: Add docstrings to your functions to explain what they do, their parameters, and what they return.\n",
    "\n",
    "4. Error Handling: Add try-except blocks to handle potential errors, such as connection issues or SQL errors.\n",
    "\n",
    "5. Constants: Define URLs and database paths as constants at the top of your script.\n",
    "\n",
    "6. Type Annotations: Use type annotations to indicate the expected types of function arguments and return values."
   ]
  },
  {
   "cell_type": "code",
   "execution_count": 5,
   "id": "0a026a09",
   "metadata": {},
   "outputs": [],
   "source": [
    "import sqlite3\n",
    "import pandas as pd\n",
    "\n",
    "def db_connection(db_path:str):\n",
    "    \"\"\"\n",
    "    Creates a connection and a cursor to the SQLite database.\n",
    "\n",
    "    Parameters:\n",
    "    db_path (str): Path to the SQLite database file.\n",
    "\n",
    "    Returns:\n",
    "    tuple: A tuple containing the connection and cursor to the database.\n",
    "    \"\"\"\n",
    "    conn = sqlite3.connect(db_path)\n",
    "    cursor = conn.cursor()\n",
    "    return conn, cursor\n",
    "\n",
    "def load_data_to_sqlite(db_path: str, data_url: str, table_name: str) -> None:\n",
    "    \"\"\"\n",
    "    Loads data from a CSV URL into an SQLite table.\n",
    "    \"\"\"\n",
    "    conn, cursor = db_connection(db_path)\n",
    "    df = pd.read_csv(data_url)\n",
    "    df.to_sql(table_name, conn, index=False, if_exists='replace')\n",
    "    conn.close()\n",
    "        \n",
    "def get_table_names(db_path: str) -> list[type]:\n",
    "    \"\"\"\n",
    "    Retrieves a list of all table names in the SQLite database.\n",
    "    \"\"\"\n",
    "    conn, cursor = db_connection(db_path)\n",
    "    cursor.execute('SELECT name from sqlite_master where type=\"table\"')\n",
    "    tables = cursor.fetchall()\n",
    "    conn.close()\n",
    "    return tables      \n",
    "\n",
    "def get_table_info(db_path:str, table_name: str) -> list[type]:\n",
    "    \"\"\"\n",
    "    Retrieves the schema information of a given table.\n",
    "    \"\"\"\n",
    "    conn, cursor = db_connection(db_path)\n",
    "    cursor.execute(f'PRAGMA table_info({table_name})')\n",
    "    info = cursor.fetchall()\n",
    "    conn.close()\n",
    "    return info\n",
    "\n",
    "def run_query(db_path: str, statement: str) -> list[type]:\n",
    "    \"\"\"\n",
    "    Executes a SQL statement and returns the results.\n",
    "    \"\"\"\n",
    "    conn, cursor = db_connection(db_path)\n",
    "    cursor.execute(statement)\n",
    "    results = cursor.fetchall()\n",
    "    conn.close()\n",
    "    return results"
   ]
  },
  {
   "cell_type": "code",
   "execution_count": 22,
   "id": "0adb6678",
   "metadata": {},
   "outputs": [],
   "source": [
    "# Constants\n",
    "db_path = 'schools.db'\n",
    "highschools_url = \"https://raw.githubusercontent.com/sql-fundamentals-jigsaw/mod-1-sql-curriculum/master/2-sql-relations/2-belongs-to-hs/data/highschools.csv\"\n",
    "sat_records_url = \"https://raw.githubusercontent.com/sql-fundamentals-jigsaw/mod-1-sql-curriculum/master/2-sql-relations/2-belongs-to-hs/data/sat_records.csv\"\n",
    "\n",
    "# load data in sqlite3 - 'schools.db'\n",
    "load_data_to_sqlite(db_path, highschools_url, 'high_schools')\n",
    "load_data_to_sqlite(db_path, sat_records_url, 'sat_records') "
   ]
  },
  {
   "cell_type": "code",
   "execution_count": 23,
   "id": "c3893fac",
   "metadata": {},
   "outputs": [
    {
     "data": {
      "text/plain": [
       "[('high_schools',), ('sat_records',)]"
      ]
     },
     "execution_count": 23,
     "metadata": {},
     "output_type": "execute_result"
    }
   ],
   "source": [
    "get_table_names(db_path)"
   ]
  },
  {
   "cell_type": "code",
   "execution_count": 24,
   "id": "42b1edc7",
   "metadata": {},
   "outputs": [
    {
     "data": {
      "text/plain": [
       "[(0, 'id', 'INTEGER', 0, None, 0),\n",
       " (1, 'dbn', 'TEXT', 0, None, 0),\n",
       " (2, 'school_name', 'TEXT', 0, None, 0),\n",
       " (3, 'boro', 'TEXT', 0, None, 0),\n",
       " (4, 'total_students', 'INTEGER', 0, None, 0),\n",
       " (5, 'graduation_rate', 'REAL', 0, None, 0),\n",
       " (6, 'attendance_rate', 'REAL', 0, None, 0),\n",
       " (7, 'college_career_rate', 'REAL', 0, None, 0)]"
      ]
     },
     "execution_count": 24,
     "metadata": {},
     "output_type": "execute_result"
    }
   ],
   "source": [
    " get_table_info(db_path, table_name ='high_schools')"
   ]
  },
  {
   "cell_type": "code",
   "execution_count": 25,
   "id": "3c4c3641",
   "metadata": {},
   "outputs": [
    {
     "data": {
      "text/plain": [
       "[('K',), ('M',), ('Q',), ('X',), ('R',)]"
      ]
     },
     "execution_count": 25,
     "metadata": {},
     "output_type": "execute_result"
    }
   ],
   "source": [
    "statement =\"\"\"\n",
    "SELECT DISTINCT boro FROM high_schools LIMIT 10\n",
    "\"\"\"\n",
    "run_query(db_path, statement)"
   ]
  },
  {
   "cell_type": "markdown",
   "id": "367c5056",
   "metadata": {},
   "source": [
    "Each of the following questions require information in both of the tables in the database. Use the JOIN clause to find the solution."
   ]
  },
  {
   "cell_type": "code",
   "execution_count": 27,
   "id": "4c5e819d",
   "metadata": {},
   "outputs": [
    {
     "data": {
      "text/plain": [
       "[('M', 682.0)]"
      ]
     },
     "execution_count": 27,
     "metadata": {},
     "output_type": "execute_result"
    }
   ],
   "source": [
    "# In which boro is the school that has the highest writing score?\n",
    "\n",
    "statement = \"\"\"\n",
    "SELECT \n",
    "  high_schools.boro,\n",
    "  max(sat_records.writing_score)\n",
    "FROM \n",
    "  high_schools\n",
    "JOIN sat_records \n",
    "    ON high_schools.dbn = sat_records.dbn\n",
    "GROUP BY \n",
    "  high_schools.boro\n",
    "ORDER BY \n",
    "  max(writing_score) desc\n",
    "LIMIT 1\n",
    "\"\"\"\n",
    "\n",
    "run_query(db_path, statement)"
   ]
  },
  {
   "cell_type": "code",
   "execution_count": 28,
   "id": "ef2b86fd",
   "metadata": {},
   "outputs": [
    {
     "data": {
      "text/plain": [
       "[('X', 312.0)]"
      ]
     },
     "execution_count": 28,
     "metadata": {},
     "output_type": "execute_result"
    }
   ],
   "source": [
    "# In which boro is the school with the lowest math average?\n",
    "\n",
    "statement = \"\"\"\n",
    "SELECT \n",
    "  high_schools.boro,\n",
    "  min(sat_records.math_avg)\n",
    "FROM \n",
    "  high_schools\n",
    "JOIN sat_records \n",
    "    ON high_schools.dbn = sat_records.dbn\n",
    "GROUP BY \n",
    "  high_schools.boro\n",
    "ORDER BY \n",
    "  min(sat_records.math_avg)\n",
    "LIMIT 1\n",
    "\"\"\"\n",
    "run_query(db_path, statement)"
   ]
  },
  {
   "cell_type": "code",
   "execution_count": 29,
   "id": "f884e5a9",
   "metadata": {},
   "outputs": [
    {
     "data": {
      "text/plain": [
       "[('02M475', 735.0)]"
      ]
     },
     "execution_count": 29,
     "metadata": {},
     "output_type": "execute_result"
    }
   ],
   "source": [
    "# What is the highest math_avg for schools with more than 1000 students?\n",
    "\n",
    "statement = \"\"\"\n",
    "SELECT \n",
    "  high_schools.dbn, \n",
    "  max(sat_records.math_avg) \n",
    "FROM \n",
    "    sat_records\n",
    "JOIN high_schools \n",
    "    on sat_records.dbn = high_schools.dbn\n",
    "GROUP BY\n",
    "    high_schools.dbn\n",
    "HAVING \n",
    "    total_students > 1000\n",
    "ORDER BY \n",
    "    max(sat_records.math_avg) desc\n",
    "LIMIT 1\n",
    "\"\"\"\n",
    "\n",
    "run_query(db_path, statement)"
   ]
  },
  {
   "cell_type": "code",
   "execution_count": 30,
   "id": "7c432ace",
   "metadata": {},
   "outputs": [
    {
     "data": {
      "text/plain": [
       "[('K', 126.33673469387755),\n",
       " ('Q', 199.51666666666668),\n",
       " ('M', 110.34177215189874),\n",
       " ('R', 300.5),\n",
       " ('X', 80.3875)]"
      ]
     },
     "execution_count": 30,
     "metadata": {},
     "output_type": "execute_result"
    }
   ],
   "source": [
    "# What is the average number of test takers in each boro?\n",
    "\n",
    "statement = \"\"\"\n",
    "select \n",
    "  high_schools.boro, \n",
    "  avg(sat_records.num_test_takers) \n",
    "from sat_records\n",
    "join high_schools \n",
    "  on sat_records.dbn = high_schools.dbn\n",
    "group by \n",
    "  high_schools.boro\n",
    "order by \n",
    "  max(sat_records.num_test_takers) desc\n",
    "\"\"\"\n",
    "\n",
    "run_query(db_path, statement)"
   ]
  },
  {
   "cell_type": "code",
   "execution_count": 31,
   "id": "5aee7e0d",
   "metadata": {},
   "outputs": [
    {
     "data": {
      "text/plain": [
       "[(0.98,), (0.97,), (0.97,), (0.97,), (0.97,)]"
      ]
     },
     "execution_count": 31,
     "metadata": {},
     "output_type": "execute_result"
    }
   ],
   "source": [
    "# What is the attendance rate of schools with math_avg greater than 500? Order your results by the attendance rate (descending) limit to the first five results\n",
    "\n",
    "statement = \"\"\"\n",
    "SELECT \n",
    "  high_schools.attendance_rate\n",
    "FROM sat_records\n",
    "JOIN high_schools \n",
    "  on sat_records.dbn = high_schools.dbn\n",
    "WHERE math_avg > 500 \n",
    "ORDER BY \n",
    "  high_schools.attendance_rate desc\n",
    "LIMIT 5\n",
    "\"\"\"\n",
    "\n",
    "run_query(db_path, statement)"
   ]
  },
  {
   "cell_type": "code",
   "execution_count": 32,
   "id": "7e65bbc4",
   "metadata": {},
   "outputs": [
    {
     "data": {
      "text/plain": [
       "[(None,),\n",
       " (None,),\n",
       " (None,),\n",
       " (None,),\n",
       " (0.39,),\n",
       " (0.46,),\n",
       " (0.47,),\n",
       " (0.49,),\n",
       " (0.5,),\n",
       " (0.5,)]"
      ]
     },
     "execution_count": 32,
     "metadata": {},
     "output_type": "execute_result"
    }
   ],
   "source": [
    "# What is the graduation rate of schools with a math_avg less than 500? Order your results by the graduation rate (ascending) limit to ten results\n",
    "\n",
    "statement = \"\"\"\n",
    "select \n",
    "  high_schools.graduation_rate\n",
    "from sat_records\n",
    "join high_schools \n",
    "  on sat_records.dbn = high_schools.dbn\n",
    "where math_avg < 500 \n",
    "order by \n",
    "  high_schools.graduation_rate\n",
    "limit 10\n",
    "\"\"\"\n",
    "\n",
    "run_query(db_path, statement)"
   ]
  },
  {
   "cell_type": "code",
   "execution_count": 33,
   "id": "561fcc10",
   "metadata": {},
   "outputs": [
    {
     "data": {
      "text/plain": [
       "[(0.9769999999999999,)]"
      ]
     },
     "execution_count": 33,
     "metadata": {},
     "output_type": "execute_result"
    }
   ],
   "source": [
    "# For schools with a math avg greater than 500, what is the average graduation rate?\n",
    "\n",
    "statement = \"\"\"\n",
    "select \n",
    "  avg(high_schools.graduation_rate)\n",
    "from sat_records\n",
    "join high_schools \n",
    "  on sat_records.dbn = high_schools.dbn\n",
    "where math_avg > 500\n",
    "\"\"\"\n",
    "\n",
    "run_query(db_path, statement)"
   ]
  },
  {
   "cell_type": "code",
   "execution_count": 34,
   "id": "92f8f1e4",
   "metadata": {},
   "outputs": [
    {
     "data": {
      "text/plain": [
       "[('K', 12381.0), ('M', 8717.0), ('Q', 11971.0), ('R', 3005.0), ('X', 6431.0)]"
      ]
     },
     "execution_count": 34,
     "metadata": {},
     "output_type": "execute_result"
    }
   ],
   "source": [
    "# What is the total number of test takers in each boro?\n",
    "\n",
    "statement = \"\"\"\n",
    "select \n",
    "  high_schools.boro, \n",
    "  sum(sat_records.num_test_takers) \n",
    "from sat_records\n",
    "join high_schools \n",
    "  on sat_records.dbn = high_schools.dbn\n",
    "group by \n",
    "  high_schools.boro\n",
    "\"\"\"\n",
    "\n",
    "run_query(db_path, statement)"
   ]
  },
  {
   "cell_type": "code",
   "execution_count": 35,
   "id": "d2e8f1e0",
   "metadata": {},
   "outputs": [
    {
     "data": {
      "text/plain": [
       "[('K', 795.2857142857143),\n",
       " ('M', 869.5822784810126),\n",
       " ('Q', 874.5666666666667),\n",
       " ('R', 930.0),\n",
       " ('X', 778.2375)]"
      ]
     },
     "execution_count": 35,
     "metadata": {},
     "output_type": "execute_result"
    }
   ],
   "source": [
    "# What is the average combined reading and math scores for each boro?\n",
    "\n",
    "statement = \"\"\"\n",
    "select \n",
    "  boro,\n",
    "  avg(sat_records.reading_avg + sat_records.math_avg) \n",
    "from sat_records\n",
    "join high_schools \n",
    "  on sat_records.dbn = high_schools.dbn\n",
    "Group by \n",
    "  boro\n",
    "\"\"\"\n",
    "run_query(db_path, statement)"
   ]
  },
  {
   "cell_type": "code",
   "execution_count": 36,
   "id": "96ed8f85",
   "metadata": {},
   "outputs": [
    {
     "data": {
      "text/plain": [
       "[('BROOKLYN TECHNICAL HIGH SCHOOL', 4561.0),\n",
       " ('FORT HAMILTON HIGH SCHOOL', 3888.0),\n",
       " ('FRANCIS LEWIS HIGH SCHOOL', 3623.0),\n",
       " ('MIDWOOD HIGH SCHOOL', 3234.0),\n",
       " ('JAMES MADISON HIGH SCHOOL', 3139.0)]"
      ]
     },
     "execution_count": 36,
     "metadata": {},
     "output_type": "execute_result"
    }
   ],
   "source": [
    "# Find the top five schools that have the largest differences between num_test_takers and total_students\n",
    "\n",
    "statement = \"\"\"\n",
    "select \n",
    "  name,\n",
    "  max(high_schools.total_students - sat_records.num_test_takers ) \n",
    "from sat_records\n",
    "join high_schools \n",
    "  on sat_records.dbn = high_schools.dbn\n",
    "Group by \n",
    "  sat_records.dbn\n",
    "order by \n",
    "  max(high_schools.total_students - sat_records.num_test_takers ) desc\n",
    "limit 5\n",
    "\"\"\"\n",
    "run_query(db_path, statement)"
   ]
  },
  {
   "cell_type": "code",
   "execution_count": 39,
   "id": "9d743996",
   "metadata": {},
   "outputs": [
    {
     "data": {
      "text/plain": [
       "[('R', 15627.0),\n",
       " ('X', 39112.0),\n",
       " ('M', 45460.0),\n",
       " ('Q', 61834.0),\n",
       " ('K', 64609.0)]"
      ]
     },
     "execution_count": 39,
     "metadata": {},
     "output_type": "execute_result"
    }
   ],
   "source": [
    "statement =\"\"\"\n",
    "SELECT\n",
    "  hs.boro,\n",
    "  SUM(hs.total_students) - SUM(sr.num_test_takers) AS difference\n",
    "FROM \n",
    "  high_schools hs\n",
    "JOIN \n",
    "  sat_records sr ON hs.dbn = sr.dbn\n",
    "GROUP BY \n",
    "  hs.boro\n",
    "ORDER BY \n",
    "  difference ASC;\n",
    "\"\"\"\n",
    "\n",
    "run_query(db_path, statement)"
   ]
  },
  {
   "cell_type": "markdown",
   "id": "33010656",
   "metadata": {},
   "source": [
    "### Write the functions in a class"
   ]
  },
  {
   "cell_type": "code",
   "execution_count": 44,
   "id": "5291cddc",
   "metadata": {},
   "outputs": [],
   "source": [
    "import sqlite3\n",
    "import pandas as pd\n",
    "from functools import wraps\n",
    "\n",
    "def check_connection(func):\n",
    "    \"\"\"Decorator to check if the database connection is established.\"\"\"\n",
    "    @wraps(func)\n",
    "    def wrapper(self, *args, **kwargs):\n",
    "        if self.db_connect():\n",
    "            return func(self, *args, **kwargs)\n",
    "        else:\n",
    "            raise ConnectionError(\"Failed to connect to the database.\")\n",
    "    return wrapper\n",
    "\n",
    "class SchoolDatabase:\n",
    "    def __init__(self, db_path: str):\n",
    "        self.db_path = db_path\n",
    "        \n",
    "    def db_connect(self):\n",
    "        \"\"\"Creates a database connection.\"\"\"\n",
    "        try:\n",
    "            conn = sqlite3.connect(self.db_path)\n",
    "            print(\"Database connection successful.\")\n",
    "            return conn\n",
    "        except sqlite3.Error as e:\n",
    "            print(f'Database connection failed: {e}')\n",
    "            return None\n",
    "    \n",
    "    @check_connection\n",
    "    def load_data_to_sqlite(self, data_url:str, table_name: str) -> None:\n",
    "        \"\"\"\n",
    "        Loads data from a CSV URL into an SQLite table.\n",
    "        \"\"\"\n",
    "        conn = None\n",
    "        try:\n",
    "            conn = self.db_connect()\n",
    "            if conn is not None:\n",
    "                df = pd.read_csv(data_url)\n",
    "                df.to_sql(table_name, conn, index=False, if_exists='replace')\n",
    "                print(f\"Data loaded successfully into '{table_name}' table.\")\n",
    "            else:\n",
    "                print(f\"Failed to load data into '{table_name}' table due to connection error.\")\n",
    "        except sqlite3.Error as e:\n",
    "            print(f\"An error occurred while loading data into '{table_name}': {e}\")\n",
    "        finally:\n",
    "            if conn:\n",
    "                conn.close()\n",
    "           \n",
    "    def get_table_info(self, table_name: str) -> list:\n",
    "        \"\"\"\n",
    "        Retrieves the schema information of a given table.\n",
    "        \"\"\"\n",
    "        conn = None\n",
    "        try:\n",
    "            conn = self.db_connect()\n",
    "            cursor = conn.cursor()\n",
    "            cursor.execute(f'PRAGMA table_info({table_name})')\n",
    "            info = cursor.fetchall()\n",
    "            print(f\"Table info for '{table_name}' retrieved successfully.\")\n",
    "            return info\n",
    "        except sqlite3.Error as e:\n",
    "            print(f\"An error occurred while retrieving info for '{table_name}': {e}\")\n",
    "        finally:\n",
    "            if conn:\n",
    "                conn.close()\n",
    "    \n",
    "    def get_table_info(self, table_name: str) -> list[type]:\n",
    "        \"\"\"\n",
    "        Retrieves the schema information of a given table.\n",
    "        \"\"\"\n",
    "        try:\n",
    "            conn = self.db_connect()\n",
    "            if conn is not None:\n",
    "                cursor = conn.cursor()\n",
    "                cursor.execute(f'PRAGMA table_info({table_name})')\n",
    "                info = cursor.fetchall()\n",
    "                print(f\"Table info for '{table_name}' retrieved successfully.\")\n",
    "                return info\n",
    "            else:\n",
    "                print(f\"Failed to retrieve info for '{table_name}' due to connection error.\")\n",
    "        except Exception as e:\n",
    "            print(f\"An error occurred while retrieving info for '{table_name}': {e}\")\n",
    "        finally:\n",
    "            if conn:\n",
    "                conn.close()\n",
    "                 \n",
    "    def run_query(self, statement: str) -> list:\n",
    "        \"\"\"Executes a SQL statement and returns the results.\"\"\"\n",
    "        conn = None\n",
    "        try:\n",
    "            conn = self.db_connect()\n",
    "            cursor = conn.cursor()\n",
    "            cursor.execute(statement)\n",
    "            results = cursor.fetchall()\n",
    "            print(\"Query executed successfully.\")\n",
    "            return results\n",
    "        except sqlite3.Error as e:\n",
    "            print(f\"An error occurred while executing the query: {e}\")\n",
    "        finally:\n",
    "            if conn:\n",
    "                conn.close()\n",
    "\n",
    "    \n",
    "      def get_difference_between_students_and_test_takers(self) -> list[type]:\n",
    "        \"\"\"Calculates the difference between total students and number of test takers for each boro.\"\"\"\n",
    "        statement = \"\"\"\n",
    "        SELECT \n",
    "          hs.boro,\n",
    "          SUM(hs.total_students) - SUM(sr.num_test_takers) AS difference\n",
    "        FROM \n",
    "          high_schools hs\n",
    "        JOIN \n",
    "          sat_records sr ON hs.dbn = sr.dbn\n",
    "        GROUP BY \n",
    "          hs.boro\n",
    "        ORDER BY \n",
    "          difference ASC;\n",
    "        \"\"\"\n",
    "        try:\n",
    "            results = self.run_query(statement)\n",
    "            print(\"Successfully retrieved the difference between total students and number of test takers for each boro.\")\n",
    "            return results\n",
    "        except Exception as e:\n",
    "            print(f\"An error occurred while calculating the difference: {e}\")\n",
    "            return []\n",
    "        "
   ]
  },
  {
   "cell_type": "code",
   "execution_count": 45,
   "id": "6b8b83b0",
   "metadata": {},
   "outputs": [],
   "source": [
    "# Usage\n",
    "db = SchoolDatabase('schools.db')\n",
    "db.load_data_to_sqlite(highschools_url, 'high_schools')\n",
    "db.load_data_to_sqlite(sat_records_url, 'sat_records')"
   ]
  },
  {
   "cell_type": "code",
   "execution_count": 47,
   "id": "6554b166",
   "metadata": {},
   "outputs": [
    {
     "data": {
      "text/plain": [
       "[('high_schools',), ('sat_records',)]"
      ]
     },
     "execution_count": 47,
     "metadata": {},
     "output_type": "execute_result"
    }
   ],
   "source": [
    "#print(db.get_table_info('high_schools'))\n",
    "db.get_table_names()"
   ]
  },
  {
   "cell_type": "code",
   "execution_count": 50,
   "id": "404a593e",
   "metadata": {},
   "outputs": [
    {
     "data": {
      "text/plain": [
       "[('BROOKLYN TECHNICAL HIGH SCHOOL', 4561.0),\n",
       " ('FORT HAMILTON HIGH SCHOOL', 3888.0),\n",
       " ('FRANCIS LEWIS HIGH SCHOOL', 3623.0),\n",
       " ('MIDWOOD HIGH SCHOOL', 3234.0),\n",
       " ('JAMES MADISON HIGH SCHOOL', 3139.0)]"
      ]
     },
     "execution_count": 50,
     "metadata": {},
     "output_type": "execute_result"
    }
   ],
   "source": [
    "# Find the top five schools that have the largest differences between num_test_takers and total_students\n",
    "\n",
    "statement = \"\"\"\n",
    "SELECT \n",
    "  name,\n",
    "  max(high_schools.total_students - sat_records.num_test_takers ) \n",
    "FROM sat_records\n",
    "JOIN high_schools \n",
    "  on sat_records.dbn = high_schools.dbn\n",
    "GROUP BY \n",
    "  sat_records.dbn\n",
    "ORDER BY \n",
    "  max(high_schools.total_students - sat_records.num_test_takers ) desc\n",
    "LIMIT 5\n",
    "\"\"\"\n",
    "db.run_query(statement)"
   ]
  },
  {
   "cell_type": "code",
   "execution_count": 57,
   "id": "51f286b1",
   "metadata": {},
   "outputs": [
    {
     "data": {
      "text/plain": [
       "[{'BROOKLYN TECHNICAL HIGH SCHOOL': 4561.0},\n",
       " {'FORT HAMILTON HIGH SCHOOL': 3888.0},\n",
       " {'FRANCIS LEWIS HIGH SCHOOL': 3623.0}]"
      ]
     },
     "execution_count": 57,
     "metadata": {},
     "output_type": "execute_result"
    }
   ],
   "source": [
    "records = db.run_query(statement)\n",
    "new_records = []\n",
    "for schoolname, diff_num in records:\n",
    "    if diff_num >= 3500:\n",
    "        new_records.append({schoolname: diff_num})\n",
    "    \n",
    "new_records"
   ]
  },
  {
   "cell_type": "code",
   "execution_count": null,
   "id": "fff5bc80",
   "metadata": {},
   "outputs": [],
   "source": []
  }
 ],
 "metadata": {
  "kernelspec": {
   "display_name": "Python 3 (ipykernel)",
   "language": "python",
   "name": "python3"
  },
  "language_info": {
   "codemirror_mode": {
    "name": "ipython",
    "version": 3
   },
   "file_extension": ".py",
   "mimetype": "text/x-python",
   "name": "python",
   "nbconvert_exporter": "python",
   "pygments_lexer": "ipython3",
   "version": "3.9.13"
  }
 },
 "nbformat": 4,
 "nbformat_minor": 5
}
