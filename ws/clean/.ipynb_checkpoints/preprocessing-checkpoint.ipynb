{
 "cells": [
  {
   "cell_type": "markdown",
   "id": "a176acbb",
   "metadata": {},
   "source": [
    "# SchoolDatabase - Preprocessing\n",
    "\n",
    "## Introduction\n",
    "\n",
    "This notebook serves as a preprocessing tool for the SchoolDatabase project, designed to load educational data from CSV files hosted on GitHub into an SQLite database. It aims to establish a clean, organized, and well-documented codebase for loading and preprocessing.\n",
    "\n",
    "The notebook is structured to perform the following tasks:\n",
    "\n",
    "1. Establish a database connection to SQLite using Python's `sqlite3` module.\n",
    "2. Load data from specified CSV files into the SQLite database.\n",
    "3. Retrieve and display the names of tables within the database.\n",
    "4. Fetch and present the schema information for each table to understand the data structure.\n",
    "5. Execute custom SQL queries and return the results for further processing or analysis.\n",
    "\n",
    "The notebook utilizes a configuration file, `settings.ini`, to manage database paths and data source URLs, promoting a modular and easily configurable code environment.\n",
    "\n",
    "### Outcomes\n",
    "\n",
    "- **Database Connection**: A reusable database connection function was established, allowing for easy connection handling throughout the notebook.\n",
    "- **Data Loading**: Data from external CSV files was loaded into the SQLite database, creating the `high_schools` and `sat_records` tables.\n",
    "- **Table Inspection**: Functions were created to list all tables in the database and to retrieve detailed schema information for each table, aiding in data understanding and validation.\n",
    "- **Query Execution**: A generic function to run SQL queries was implemented, providing a foundation for executing data retrieval and manipulation commands.\n"
   ]
  },
  {
   "cell_type": "code",
   "execution_count": 1,
   "id": "c272b806",
   "metadata": {},
   "outputs": [],
   "source": [
    "import sqlite3\n",
    "import pandas as pd\n",
    "import configparser"
   ]
  },
  {
   "cell_type": "code",
   "execution_count": 2,
   "id": "0a026a09",
   "metadata": {},
   "outputs": [],
   "source": [
    "def db_connection(db_path:str):\n",
    "    \"\"\"\n",
    "    Creates a connection and a cursor to the SQLite database.\n",
    "\n",
    "    Parameters:\n",
    "    db_path (str): Path to the SQLite database file.\n",
    "\n",
    "    Returns:\n",
    "    tuple: A tuple containing the connection and cursor to the database.\n",
    "    \"\"\"\n",
    "    conn = sqlite3.connect(db_path)\n",
    "    cursor = conn.cursor()\n",
    "    return conn, cursor\n",
    "\n",
    "def load_data_to_sqlite(db_path: str, data_url: str, table_name: str) -> None:\n",
    "    \"\"\"\n",
    "    Loads data from a CSV URL into an SQLite table.\n",
    "    \"\"\"\n",
    "    conn, cursor = db_connection(db_path)\n",
    "    df = pd.read_csv(data_url)\n",
    "    df.to_sql(table_name, conn, index=False, if_exists='replace')\n",
    "    conn.close()\n",
    "        \n",
    "def get_table_names(db_path: str) -> list[type]:\n",
    "    \"\"\"\n",
    "    Retrieves a list of all table names in the SQLite database.\n",
    "    \"\"\"\n",
    "    conn, cursor = db_connection(db_path)\n",
    "    cursor.execute('SELECT name from sqlite_master where type=\"table\"')\n",
    "    tables = cursor.fetchall()\n",
    "    conn.close()\n",
    "    return tables      \n",
    "\n",
    "def get_table_info(db_path:str, table_name: str) -> list[type]:\n",
    "    \"\"\"\n",
    "    Retrieves the schema information of a given table.\n",
    "    \"\"\"\n",
    "    conn, cursor = db_connection(db_path)\n",
    "    cursor.execute(f'PRAGMA table_info({table_name})')\n",
    "    info = cursor.fetchall()\n",
    "    conn.close()\n",
    "    return info\n",
    "\n",
    "def run_query(db_path: str, statement: str) -> list[type]:\n",
    "    \"\"\"\n",
    "    Executes a SQL statement and returns the results.\n",
    "    \"\"\"\n",
    "    conn, cursor = db_connection(db_path)\n",
    "    cursor.execute(statement)\n",
    "    results = cursor.fetchall()\n",
    "    conn.close()\n",
    "    return results"
   ]
  },
  {
   "cell_type": "code",
   "execution_count": 3,
   "id": "0adb6678",
   "metadata": {},
   "outputs": [],
   "source": [
    "# Constants\n",
    "db_path = 'schools.db'\n",
    "highschools_url = \"https://raw.githubusercontent.com/sql-fundamentals-jigsaw/mod-1-sql-curriculum/master/2-sql-relations/2-belongs-to-hs/data/highschools.csv\"\n",
    "sat_records_url = \"https://raw.githubusercontent.com/sql-fundamentals-jigsaw/mod-1-sql-curriculum/master/2-sql-relations/2-belongs-to-hs/data/sat_records.csv\"\n",
    "\n",
    "# load data in sqlite3 - 'schools.db'\n",
    "load_data_to_sqlite(db_path, highschools_url, 'high_schools')\n",
    "load_data_to_sqlite(db_path, sat_records_url, 'sat_records') "
   ]
  },
  {
   "cell_type": "code",
   "execution_count": 4,
   "id": "c3893fac",
   "metadata": {},
   "outputs": [
    {
     "data": {
      "text/plain": [
       "[('high_schools',), ('sat_records',)]"
      ]
     },
     "execution_count": 4,
     "metadata": {},
     "output_type": "execute_result"
    }
   ],
   "source": [
    "get_table_names(db_path)"
   ]
  },
  {
   "cell_type": "code",
   "execution_count": 5,
   "id": "42b1edc7",
   "metadata": {},
   "outputs": [
    {
     "data": {
      "text/plain": [
       "[(0, 'id', 'INTEGER', 0, None, 0),\n",
       " (1, 'dbn', 'TEXT', 0, None, 0),\n",
       " (2, 'school_name', 'TEXT', 0, None, 0),\n",
       " (3, 'boro', 'TEXT', 0, None, 0),\n",
       " (4, 'total_students', 'INTEGER', 0, None, 0),\n",
       " (5, 'graduation_rate', 'REAL', 0, None, 0),\n",
       " (6, 'attendance_rate', 'REAL', 0, None, 0),\n",
       " (7, 'college_career_rate', 'REAL', 0, None, 0)]"
      ]
     },
     "execution_count": 5,
     "metadata": {},
     "output_type": "execute_result"
    }
   ],
   "source": [
    " get_table_info(db_path, table_name ='high_schools')"
   ]
  },
  {
   "cell_type": "code",
   "execution_count": 6,
   "id": "3c4c3641",
   "metadata": {},
   "outputs": [
    {
     "data": {
      "text/plain": [
       "[('K',), ('M',), ('Q',), ('X',), ('R',)]"
      ]
     },
     "execution_count": 6,
     "metadata": {},
     "output_type": "execute_result"
    }
   ],
   "source": [
    "statement =\"\"\"\n",
    "SELECT DISTINCT boro FROM high_schools LIMIT 10\n",
    "\"\"\"\n",
    "run_query(db_path, statement)"
   ]
  },
  {
   "cell_type": "markdown",
   "id": "367c5056",
   "metadata": {},
   "source": [
    "Each of the following questions require information in both of the tables in the database. Use the JOIN clause to find the solution."
   ]
  },
  {
   "cell_type": "code",
   "execution_count": 7,
   "id": "4c5e819d",
   "metadata": {},
   "outputs": [
    {
     "data": {
      "text/plain": [
       "[('M', 682.0)]"
      ]
     },
     "execution_count": 7,
     "metadata": {},
     "output_type": "execute_result"
    }
   ],
   "source": [
    "# In which boro is the school that has the highest writing score?\n",
    "\n",
    "statement = \"\"\"\n",
    "SELECT \n",
    "  high_schools.boro,\n",
    "  max(sat_records.writing_score)\n",
    "FROM \n",
    "  high_schools\n",
    "JOIN sat_records \n",
    "    ON high_schools.dbn = sat_records.dbn\n",
    "GROUP BY \n",
    "  high_schools.boro\n",
    "ORDER BY \n",
    "  max(writing_score) desc\n",
    "LIMIT 1\n",
    "\"\"\"\n",
    "\n",
    "run_query(db_path, statement)"
   ]
  },
  {
   "cell_type": "code",
   "execution_count": 8,
   "id": "ef2b86fd",
   "metadata": {},
   "outputs": [
    {
     "data": {
      "text/plain": [
       "[('X', 312.0)]"
      ]
     },
     "execution_count": 8,
     "metadata": {},
     "output_type": "execute_result"
    }
   ],
   "source": [
    "# In which boro is the school with the lowest math average?\n",
    "\n",
    "statement = \"\"\"\n",
    "SELECT \n",
    "  high_schools.boro,\n",
    "  min(sat_records.math_avg)\n",
    "FROM \n",
    "  high_schools\n",
    "JOIN sat_records \n",
    "    ON high_schools.dbn = sat_records.dbn\n",
    "GROUP BY \n",
    "  high_schools.boro\n",
    "ORDER BY \n",
    "  min(sat_records.math_avg)\n",
    "LIMIT 1\n",
    "\"\"\"\n",
    "run_query(db_path, statement)"
   ]
  },
  {
   "cell_type": "code",
   "execution_count": 9,
   "id": "f884e5a9",
   "metadata": {},
   "outputs": [
    {
     "data": {
      "text/plain": [
       "[('02M475', 735.0)]"
      ]
     },
     "execution_count": 9,
     "metadata": {},
     "output_type": "execute_result"
    }
   ],
   "source": [
    "# What is the highest math_avg for schools with more than 1000 students?\n",
    "\n",
    "statement = \"\"\"\n",
    "SELECT \n",
    "  high_schools.dbn, \n",
    "  max(sat_records.math_avg) \n",
    "FROM \n",
    "    sat_records\n",
    "JOIN high_schools \n",
    "    on sat_records.dbn = high_schools.dbn\n",
    "GROUP BY\n",
    "    high_schools.dbn\n",
    "HAVING \n",
    "    total_students > 1000\n",
    "ORDER BY \n",
    "    max(sat_records.math_avg) desc\n",
    "LIMIT 1\n",
    "\"\"\"\n",
    "\n",
    "run_query(db_path, statement)"
   ]
  },
  {
   "cell_type": "code",
   "execution_count": 10,
   "id": "7c432ace",
   "metadata": {},
   "outputs": [
    {
     "data": {
      "text/plain": [
       "[('K', 126.33673469387755),\n",
       " ('Q', 199.51666666666668),\n",
       " ('M', 110.34177215189874),\n",
       " ('R', 300.5),\n",
       " ('X', 80.3875)]"
      ]
     },
     "execution_count": 10,
     "metadata": {},
     "output_type": "execute_result"
    }
   ],
   "source": [
    "# What is the average number of test takers in each boro?\n",
    "\n",
    "statement = \"\"\"\n",
    "select \n",
    "  high_schools.boro, \n",
    "  avg(sat_records.num_test_takers) \n",
    "from sat_records\n",
    "join high_schools \n",
    "  on sat_records.dbn = high_schools.dbn\n",
    "group by \n",
    "  high_schools.boro\n",
    "order by \n",
    "  max(sat_records.num_test_takers) desc\n",
    "\"\"\"\n",
    "\n",
    "run_query(db_path, statement)"
   ]
  },
  {
   "cell_type": "code",
   "execution_count": 11,
   "id": "5aee7e0d",
   "metadata": {},
   "outputs": [
    {
     "data": {
      "text/plain": [
       "[(0.98,), (0.97,), (0.97,), (0.97,), (0.97,)]"
      ]
     },
     "execution_count": 11,
     "metadata": {},
     "output_type": "execute_result"
    }
   ],
   "source": [
    "# What is the attendance rate of schools with math_avg greater than 500? Order your results by the attendance rate (descending) limit to the first five results\n",
    "\n",
    "statement = \"\"\"\n",
    "SELECT \n",
    "  high_schools.attendance_rate\n",
    "FROM sat_records\n",
    "JOIN high_schools \n",
    "  on sat_records.dbn = high_schools.dbn\n",
    "WHERE math_avg > 500 \n",
    "ORDER BY \n",
    "  high_schools.attendance_rate desc\n",
    "LIMIT 5\n",
    "\"\"\"\n",
    "\n",
    "run_query(db_path, statement)"
   ]
  },
  {
   "cell_type": "code",
   "execution_count": 12,
   "id": "7e65bbc4",
   "metadata": {},
   "outputs": [
    {
     "data": {
      "text/plain": [
       "[(None,),\n",
       " (None,),\n",
       " (None,),\n",
       " (None,),\n",
       " (0.39,),\n",
       " (0.46,),\n",
       " (0.47,),\n",
       " (0.49,),\n",
       " (0.5,),\n",
       " (0.5,)]"
      ]
     },
     "execution_count": 12,
     "metadata": {},
     "output_type": "execute_result"
    }
   ],
   "source": [
    "# What is the graduation rate of schools with a math_avg less than 500? Order your results by the graduation rate (ascending) limit to ten results\n",
    "\n",
    "statement = \"\"\"\n",
    "select \n",
    "  high_schools.graduation_rate\n",
    "from sat_records\n",
    "join high_schools \n",
    "  on sat_records.dbn = high_schools.dbn\n",
    "where math_avg < 500 \n",
    "order by \n",
    "  high_schools.graduation_rate\n",
    "limit 10\n",
    "\"\"\"\n",
    "\n",
    "run_query(db_path, statement)"
   ]
  },
  {
   "cell_type": "code",
   "execution_count": 13,
   "id": "561fcc10",
   "metadata": {},
   "outputs": [
    {
     "data": {
      "text/plain": [
       "[(0.9769999999999999,)]"
      ]
     },
     "execution_count": 13,
     "metadata": {},
     "output_type": "execute_result"
    }
   ],
   "source": [
    "# For schools with a math avg greater than 500, what is the average graduation rate?\n",
    "\n",
    "statement = \"\"\"\n",
    "select \n",
    "  avg(high_schools.graduation_rate)\n",
    "from sat_records\n",
    "join high_schools \n",
    "  on sat_records.dbn = high_schools.dbn\n",
    "where math_avg > 500\n",
    "\"\"\"\n",
    "\n",
    "run_query(db_path, statement)"
   ]
  },
  {
   "cell_type": "code",
   "execution_count": 14,
   "id": "92f8f1e4",
   "metadata": {},
   "outputs": [
    {
     "data": {
      "text/plain": [
       "[('K', 12381.0), ('M', 8717.0), ('Q', 11971.0), ('R', 3005.0), ('X', 6431.0)]"
      ]
     },
     "execution_count": 14,
     "metadata": {},
     "output_type": "execute_result"
    }
   ],
   "source": [
    "# What is the total number of test takers in each boro?\n",
    "\n",
    "statement = \"\"\"\n",
    "select \n",
    "  high_schools.boro, \n",
    "  sum(sat_records.num_test_takers) \n",
    "from sat_records\n",
    "join high_schools \n",
    "  on sat_records.dbn = high_schools.dbn\n",
    "group by \n",
    "  high_schools.boro\n",
    "\"\"\"\n",
    "\n",
    "run_query(db_path, statement)"
   ]
  },
  {
   "cell_type": "code",
   "execution_count": 15,
   "id": "d2e8f1e0",
   "metadata": {},
   "outputs": [
    {
     "data": {
      "text/plain": [
       "[('K', 795.2857142857143),\n",
       " ('M', 869.5822784810126),\n",
       " ('Q', 874.5666666666667),\n",
       " ('R', 930.0),\n",
       " ('X', 778.2375)]"
      ]
     },
     "execution_count": 15,
     "metadata": {},
     "output_type": "execute_result"
    }
   ],
   "source": [
    "# What is the average combined reading and math scores for each boro?\n",
    "\n",
    "statement = \"\"\"\n",
    "select \n",
    "  boro,\n",
    "  avg(sat_records.reading_avg + sat_records.math_avg) \n",
    "from sat_records\n",
    "join high_schools \n",
    "  on sat_records.dbn = high_schools.dbn\n",
    "Group by \n",
    "  boro\n",
    "\"\"\"\n",
    "run_query(db_path, statement)"
   ]
  },
  {
   "cell_type": "code",
   "execution_count": 16,
   "id": "96ed8f85",
   "metadata": {},
   "outputs": [
    {
     "data": {
      "text/plain": [
       "[('BROOKLYN TECHNICAL HIGH SCHOOL', 4561.0),\n",
       " ('FORT HAMILTON HIGH SCHOOL', 3888.0),\n",
       " ('FRANCIS LEWIS HIGH SCHOOL', 3623.0),\n",
       " ('MIDWOOD HIGH SCHOOL', 3234.0),\n",
       " ('JAMES MADISON HIGH SCHOOL', 3139.0)]"
      ]
     },
     "execution_count": 16,
     "metadata": {},
     "output_type": "execute_result"
    }
   ],
   "source": [
    "# Find the top five schools that have the largest differences between num_test_takers and total_students\n",
    "\n",
    "statement = \"\"\"\n",
    "select \n",
    "  name,\n",
    "  max(high_schools.total_students - sat_records.num_test_takers ) \n",
    "from sat_records\n",
    "join high_schools \n",
    "  on sat_records.dbn = high_schools.dbn\n",
    "Group by \n",
    "  sat_records.dbn\n",
    "order by \n",
    "  max(high_schools.total_students - sat_records.num_test_takers ) desc\n",
    "limit 5\n",
    "\"\"\"\n",
    "run_query(db_path, statement)"
   ]
  },
  {
   "cell_type": "code",
   "execution_count": 17,
   "id": "9d743996",
   "metadata": {},
   "outputs": [
    {
     "data": {
      "text/plain": [
       "[('R', 15627.0),\n",
       " ('X', 39112.0),\n",
       " ('M', 45460.0),\n",
       " ('Q', 61834.0),\n",
       " ('K', 64609.0)]"
      ]
     },
     "execution_count": 17,
     "metadata": {},
     "output_type": "execute_result"
    }
   ],
   "source": [
    "statement =\"\"\"\n",
    "SELECT\n",
    "  hs.boro,\n",
    "  SUM(hs.total_students) - SUM(sr.num_test_takers) AS difference\n",
    "FROM \n",
    "  high_schools hs\n",
    "JOIN \n",
    "  sat_records sr ON hs.dbn = sr.dbn\n",
    "GROUP BY \n",
    "  hs.boro\n",
    "ORDER BY \n",
    "  difference ASC;\n",
    "\"\"\"\n",
    "\n",
    "run_query(db_path, statement)"
   ]
  },
  {
   "cell_type": "markdown",
   "id": "33010656",
   "metadata": {},
   "source": [
    "### Write the functions in a class"
   ]
  },
  {
   "cell_type": "code",
   "execution_count": 20,
   "id": "5291cddc",
   "metadata": {},
   "outputs": [],
   "source": [
    "import sqlite3\n",
    "import pandas as pd\n",
    "from functools import wraps\n",
    "\n",
    "def check_connection(func):\n",
    "    \"\"\"Decorator to check if the database connection is established.\"\"\"\n",
    "    @wraps(func)\n",
    "    def wrapper(self, *args, **kwargs):\n",
    "        if self.db_connect():\n",
    "            return func(self, *args, **kwargs)\n",
    "        else:\n",
    "            raise ConnectionError(\"Failed to connect to the database.\")\n",
    "    return wrapper\n",
    "\n",
    "class SchoolDatabase:\n",
    "    def __init__(self, db_path: str):\n",
    "        self.db_path = db_path\n",
    "        \n",
    "    def db_connect(self):\n",
    "        \"\"\"Creates a database connection.\"\"\"\n",
    "        try:\n",
    "            conn = sqlite3.connect(self.db_path)\n",
    "            print(\"Database connection successful.\")\n",
    "            return conn\n",
    "        except sqlite3.Error as e:\n",
    "            print(f'Database connection failed: {e}')\n",
    "            return None\n",
    "    \n",
    "    @check_connection\n",
    "    def load_data_to_sqlite(self, data_url:str, table_name: str) -> None:\n",
    "        \"\"\"\n",
    "        Loads data from a CSV URL into an SQLite table.\n",
    "        \"\"\"\n",
    "        conn = None\n",
    "        try:\n",
    "            conn = self.db_connect()\n",
    "            if conn is not None:\n",
    "                df = pd.read_csv(data_url)\n",
    "                df.to_sql(table_name, conn, index=False, if_exists='replace')\n",
    "                print(f\"Data loaded successfully into '{table_name}' table.\")\n",
    "            else:\n",
    "                print(f\"Failed to load data into '{table_name}' table due to connection error.\")\n",
    "        except sqlite3.Error as e:\n",
    "            print(f\"An error occurred while loading data into '{table_name}': {e}\")\n",
    "        finally:\n",
    "            if conn:\n",
    "                conn.close()\n",
    "           \n",
    "    def get_table_info(self, table_name: str) -> list:\n",
    "        \"\"\"\n",
    "        Retrieves the schema information of a given table.\n",
    "        \"\"\"\n",
    "        conn = None\n",
    "        try:\n",
    "            conn = self.db_connect()\n",
    "            cursor = conn.cursor()\n",
    "            cursor.execute(f'PRAGMA table_info({table_name})')\n",
    "            info = cursor.fetchall()\n",
    "            print(f\"Table info for '{table_name}' retrieved successfully.\")\n",
    "            return info\n",
    "        except sqlite3.Error as e:\n",
    "            print(f\"An error occurred while retrieving info for '{table_name}': {e}\")\n",
    "        finally:\n",
    "            if conn:\n",
    "                conn.close()\n",
    "    \n",
    "    def get_table_info(self, table_name: str) -> list[type]:\n",
    "        \"\"\"\n",
    "        Retrieves the schema information of a given table.\n",
    "        \"\"\"\n",
    "        try:\n",
    "            conn = self.db_connect()\n",
    "            if conn is not None:\n",
    "                cursor = conn.cursor()\n",
    "                cursor.execute(f'PRAGMA table_info({table_name})')\n",
    "                info = cursor.fetchall()\n",
    "                print(f\"Table info for '{table_name}' retrieved successfully.\")\n",
    "                return info\n",
    "            else:\n",
    "                print(f\"Failed to retrieve info for '{table_name}' due to connection error.\")\n",
    "        except Exception as e:\n",
    "            print(f\"An error occurred while retrieving info for '{table_name}': {e}\")\n",
    "        finally:\n",
    "            if conn:\n",
    "                conn.close()\n",
    "                 \n",
    "    def run_query(self, statement: str) -> list:\n",
    "        \"\"\"Executes a SQL statement and returns the results.\"\"\"\n",
    "        conn = None\n",
    "        try:\n",
    "            conn = self.db_connect()\n",
    "            cursor = conn.cursor()\n",
    "            cursor.execute(statement)\n",
    "            results = cursor.fetchall()\n",
    "            print(\"Query executed successfully.\")\n",
    "            return results\n",
    "        except sqlite3.Error as e:\n",
    "            print(f\"An error occurred while executing the query: {e}\")\n",
    "        finally:\n",
    "            if conn:\n",
    "                conn.close()\n",
    "\n",
    "    \n",
    "    def get_difference_between_students_and_test_takers(self) -> list[type]:\n",
    "        \"\"\"Calculates the difference between total students and number of test takers for each boro.\"\"\"\n",
    "        statement = \"\"\"\n",
    "        SELECT \n",
    "          hs.boro,\n",
    "          SUM(hs.total_students) - SUM(sr.num_test_takers) AS difference\n",
    "        FROM \n",
    "          high_schools hs\n",
    "        JOIN \n",
    "          sat_records sr ON hs.dbn = sr.dbn\n",
    "        GROUP BY \n",
    "          hs.boro\n",
    "        ORDER BY \n",
    "          difference ASC;\n",
    "        \"\"\"\n",
    "        try:\n",
    "            results = self.run_query(statement)\n",
    "            print(\"Successfully retrieved the difference between total students and number of test takers for each boro.\")\n",
    "            return results\n",
    "        except Exception as e:\n",
    "            print(f\"An error occurred while calculating the difference: {e}\")\n",
    "            return []\n",
    "        "
   ]
  },
  {
   "cell_type": "code",
   "execution_count": 22,
   "id": "6b8b83b0",
   "metadata": {},
   "outputs": [
    {
     "ename": "KeyError",
     "evalue": "'database'",
     "output_type": "error",
     "traceback": [
      "\u001b[0;31m---------------------------------------------------------------------------\u001b[0m",
      "\u001b[0;31mKeyError\u001b[0m                                  Traceback (most recent call last)",
      "\u001b[0;32m/var/folders/21/f45fbj896dg1czx0x93kxrl80000gn/T/ipykernel_23391/2670651841.py\u001b[0m in \u001b[0;36m<module>\u001b[0;34m\u001b[0m\n\u001b[1;32m      4\u001b[0m \u001b[0;34m\u001b[0m\u001b[0m\n\u001b[1;32m      5\u001b[0m \u001b[0;31m# Constants from the configuration file\u001b[0m\u001b[0;34m\u001b[0m\u001b[0;34m\u001b[0m\u001b[0m\n\u001b[0;32m----> 6\u001b[0;31m \u001b[0mdb_path\u001b[0m \u001b[0;34m=\u001b[0m \u001b[0mconfig\u001b[0m\u001b[0;34m[\u001b[0m\u001b[0;34m'database'\u001b[0m\u001b[0;34m]\u001b[0m\u001b[0;34m[\u001b[0m\u001b[0;34m'db_path'\u001b[0m\u001b[0;34m]\u001b[0m\u001b[0;34m\u001b[0m\u001b[0;34m\u001b[0m\u001b[0m\n\u001b[0m\u001b[1;32m      7\u001b[0m \u001b[0;31m# highschools_url = config['csv_data_sources']['highschools_url']\u001b[0m\u001b[0;34m\u001b[0m\u001b[0;34m\u001b[0m\u001b[0m\n\u001b[1;32m      8\u001b[0m \u001b[0;31m# sat_records_url = config['csv_data_sources']['sat_records_url']\u001b[0m\u001b[0;34m\u001b[0m\u001b[0;34m\u001b[0m\u001b[0m\n",
      "\u001b[0;32m/opt/anaconda3/lib/python3.9/configparser.py\u001b[0m in \u001b[0;36m__getitem__\u001b[0;34m(self, key)\u001b[0m\n\u001b[1;32m    961\u001b[0m     \u001b[0;32mdef\u001b[0m \u001b[0m__getitem__\u001b[0m\u001b[0;34m(\u001b[0m\u001b[0mself\u001b[0m\u001b[0;34m,\u001b[0m \u001b[0mkey\u001b[0m\u001b[0;34m)\u001b[0m\u001b[0;34m:\u001b[0m\u001b[0;34m\u001b[0m\u001b[0;34m\u001b[0m\u001b[0m\n\u001b[1;32m    962\u001b[0m         \u001b[0;32mif\u001b[0m \u001b[0mkey\u001b[0m \u001b[0;34m!=\u001b[0m \u001b[0mself\u001b[0m\u001b[0;34m.\u001b[0m\u001b[0mdefault_section\u001b[0m \u001b[0;32mand\u001b[0m \u001b[0;32mnot\u001b[0m \u001b[0mself\u001b[0m\u001b[0;34m.\u001b[0m\u001b[0mhas_section\u001b[0m\u001b[0;34m(\u001b[0m\u001b[0mkey\u001b[0m\u001b[0;34m)\u001b[0m\u001b[0;34m:\u001b[0m\u001b[0;34m\u001b[0m\u001b[0;34m\u001b[0m\u001b[0m\n\u001b[0;32m--> 963\u001b[0;31m             \u001b[0;32mraise\u001b[0m \u001b[0mKeyError\u001b[0m\u001b[0;34m(\u001b[0m\u001b[0mkey\u001b[0m\u001b[0;34m)\u001b[0m\u001b[0;34m\u001b[0m\u001b[0;34m\u001b[0m\u001b[0m\n\u001b[0m\u001b[1;32m    964\u001b[0m         \u001b[0;32mreturn\u001b[0m \u001b[0mself\u001b[0m\u001b[0;34m.\u001b[0m\u001b[0m_proxies\u001b[0m\u001b[0;34m[\u001b[0m\u001b[0mkey\u001b[0m\u001b[0;34m]\u001b[0m\u001b[0;34m\u001b[0m\u001b[0;34m\u001b[0m\u001b[0m\n\u001b[1;32m    965\u001b[0m \u001b[0;34m\u001b[0m\u001b[0m\n",
      "\u001b[0;31mKeyError\u001b[0m: 'database'"
     ]
    }
   ],
   "source": [
    "# Read settings from the configuration file\n",
    "config = configparser.ConfigParser()\n",
    "config.read('config/settings.ini')\n",
    "\n",
    "# Constants from the configuration file\n",
    "db_path = config['database']['db_path']\n",
    "# highschools_url = config['csv_data_sources']['highschools_url']\n",
    "# sat_records_url = config['csv_data_sources']['sat_records_url']\n",
    "\n",
    "# # Usage\n",
    "# db = SchoolDatabase('schools.db')\n",
    "# db.load_data_to_sqlite(highschools_url, 'high_schools')\n",
    "# db.load_data_to_sqlite(sat_records_url, 'sat_records')\n",
    "\n",
    "db_path"
   ]
  },
  {
   "cell_type": "code",
   "execution_count": 47,
   "id": "6554b166",
   "metadata": {},
   "outputs": [
    {
     "data": {
      "text/plain": [
       "[('high_schools',), ('sat_records',)]"
      ]
     },
     "execution_count": 47,
     "metadata": {},
     "output_type": "execute_result"
    }
   ],
   "source": [
    "#print(db.get_table_info('high_schools'))\n",
    "db.get_table_names()"
   ]
  },
  {
   "cell_type": "code",
   "execution_count": 50,
   "id": "404a593e",
   "metadata": {},
   "outputs": [
    {
     "data": {
      "text/plain": [
       "[('BROOKLYN TECHNICAL HIGH SCHOOL', 4561.0),\n",
       " ('FORT HAMILTON HIGH SCHOOL', 3888.0),\n",
       " ('FRANCIS LEWIS HIGH SCHOOL', 3623.0),\n",
       " ('MIDWOOD HIGH SCHOOL', 3234.0),\n",
       " ('JAMES MADISON HIGH SCHOOL', 3139.0)]"
      ]
     },
     "execution_count": 50,
     "metadata": {},
     "output_type": "execute_result"
    }
   ],
   "source": [
    "# Find the top five schools that have the largest differences between num_test_takers and total_students\n",
    "\n",
    "statement = \"\"\"\n",
    "SELECT \n",
    "  name,\n",
    "  max(high_schools.total_students - sat_records.num_test_takers ) \n",
    "FROM sat_records\n",
    "JOIN high_schools \n",
    "  on sat_records.dbn = high_schools.dbn\n",
    "GROUP BY \n",
    "  sat_records.dbn\n",
    "ORDER BY \n",
    "  max(high_schools.total_students - sat_records.num_test_takers ) desc\n",
    "LIMIT 5\n",
    "\"\"\"\n",
    "db.run_query(statement)"
   ]
  },
  {
   "cell_type": "code",
   "execution_count": 57,
   "id": "51f286b1",
   "metadata": {},
   "outputs": [
    {
     "data": {
      "text/plain": [
       "[{'BROOKLYN TECHNICAL HIGH SCHOOL': 4561.0},\n",
       " {'FORT HAMILTON HIGH SCHOOL': 3888.0},\n",
       " {'FRANCIS LEWIS HIGH SCHOOL': 3623.0}]"
      ]
     },
     "execution_count": 57,
     "metadata": {},
     "output_type": "execute_result"
    }
   ],
   "source": [
    "records = db.run_query(statement)\n",
    "new_records = []\n",
    "for schoolname, diff_num in records:\n",
    "    if diff_num >= 3500:\n",
    "        new_records.append({schoolname: diff_num})\n",
    "    \n",
    "new_records"
   ]
  },
  {
   "cell_type": "code",
   "execution_count": null,
   "id": "fff5bc80",
   "metadata": {},
   "outputs": [],
   "source": []
  }
 ],
 "metadata": {
  "kernelspec": {
   "display_name": "Python 3 (ipykernel)",
   "language": "python",
   "name": "python3"
  },
  "language_info": {
   "codemirror_mode": {
    "name": "ipython",
    "version": 3
   },
   "file_extension": ".py",
   "mimetype": "text/x-python",
   "name": "python",
   "nbconvert_exporter": "python",
   "pygments_lexer": "ipython3",
   "version": "3.9.13"
  }
 },
 "nbformat": 4,
 "nbformat_minor": 5
}
